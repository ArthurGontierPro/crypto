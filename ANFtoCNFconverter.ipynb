{
 "cells": [
  {
   "cell_type": "code",
   "execution_count": 23,
   "metadata": {},
   "outputs": [
    {
     "name": "stdout",
     "output_type": "stream",
     "text": [
      "p cnf 6 24\n",
      "-6 -5 -4 -2 -3 1 0\n",
      "-6 -5 -4 2 -1 0\n",
      "-6 -5 -4 3 -1 0\n",
      "-6 -5 4 -2 -3 -1 0\n",
      "-6 -5 4 2 1 0\n",
      "-6 -5 4 3 1 0\n",
      "-6 5 -4 -2 -3 -1 0\n",
      "-6 5 -4 2 1 0\n",
      "-6 5 -4 3 1 0\n",
      "-6 5 4 -2 -3 1 0\n",
      "-6 5 4 2 -1 0\n",
      "-6 5 4 3 -1 0\n",
      "6 -5 -4 -2 -3 -1 0\n",
      "6 -5 -4 2 1 0\n",
      "6 -5 -4 3 1 0\n",
      "6 -5 4 -2 -3 1 0\n",
      "6 -5 4 2 -1 0\n",
      "6 -5 4 3 -1 0\n",
      "6 5 -4 -2 -3 1 0\n",
      "6 5 -4 2 -1 0\n",
      "6 5 -4 3 -1 0\n",
      "6 5 4 -2 -3 -1 0\n",
      "6 5 4 2 1 0\n",
      "6 5 4 3 1 0\n",
      "\n"
     ]
    },
    {
     "data": {
      "text/plain": [
       "[None, a, b, c, d, ee, f]"
      ]
     },
     "execution_count": 23,
     "metadata": {},
     "output_type": "execute_result"
    }
   ],
   "source": [
    "sage: B.<a,b,c,d,ee,f> = BooleanPolynomialRing()\n",
    "sage: from sage.sat.converters.polybori import CNFEncoder\n",
    "sage: from sage.sat.solvers.dimacs import DIMACS\n",
    "sage: fn = tmp_filename()\n",
    "sage: solver = DIMACS(filename=fn)\n",
    "sage: e = CNFEncoder(solver, B)\n",
    "sage: e.clauses_sparse(a+b*c+d+ee+f+1)\n",
    "sage: _ = solver.write()\n",
    "sage: print(open(fn).read())\n",
    "sage: e.phi"
   ]
  },
  {
   "cell_type": "code",
   "execution_count": null,
   "metadata": {},
   "outputs": [],
   "source": [
    "sage: B.<a,b,c,d,ee,f> = BooleanPolynomialRing()\n",
    "sage: from sage.sat.converters.polybori import CNFEncoder\n",
    "sage: from sage.sat.solvers.dimacs import DIMACS\n",
    "sage: fn = tmp_filename()\n",
    "sage: solver = DIMACS(filename=fn)\n",
    "sage: e = CNFEncoder(solver, B)\n",
    "sage: e.clauses_dense(a+b*c+d+ee+f+1)\n",
    "sage: _ = solver.write()\n",
    "sage: print(open(fn).read())"
   ]
  },
  {
   "cell_type": "code",
   "execution_count": null,
   "metadata": {},
   "outputs": [],
   "source": [
    "sage: B.<a1,b1,c1,d1,e1,a2,b2,c2,d2,e2,a3,b3,c3,d3,e3,z> = BooleanPolynomialRing()\n",
    "sage: from sage.sat.converters.polybori import CNFEncoder\n",
    "sage: from sage.sat.solvers.dimacs import DIMACS\n",
    "sage: fn = tmp_filename()\n",
    "sage: solver = DIMACS(filename=fn)\n",
    "sage: e = CNFEncoder(solver, B)\n",
    "sage: e.clauses_sparse(a1+b1*c1+d1+e1+a2+b2*c2+d2+e2+a3+b3*c3+d3+e3+z+1)\n",
    "sage: _ = solver.write()\n",
    "sage: print(open(fn).read())\n",
    "sage: e.phi"
   ]
  },
  {
   "cell_type": "code",
   "execution_count": null,
   "metadata": {},
   "outputs": [],
   "source": [
    "sage: B.<a1,b1,c1,d1,e1,a2,b2,c2,d2,e2,a3,b3,c3,d3,e3,z> = BooleanPolynomialRing()\n",
    "sage: from sage.sat.converters.polybori import CNFEncoder\n",
    "sage: from sage.sat.solvers.dimacs import DIMACS\n",
    "sage: fn = tmp_filename()\n",
    "sage: solver = DIMACS(filename=fn)\n",
    "sage: e = CNFEncoder(solver, B)\n",
    "sage: e.clauses_dense(a1+b1*c1+d1+e1+a2+b2*c2+d2+e2+a3+b3*c3+d3+e3+z+1)\n",
    "sage: _ = solver.write()\n",
    "sage: print(open(fn).read())"
   ]
  },
  {
   "cell_type": "code",
   "execution_count": 25,
   "metadata": {},
   "outputs": [
    {
     "name": "stdout",
     "output_type": "stream",
     "text": [
      "p cnf 4 8\n",
      "-4 -2 -3 -1 0\n",
      "-4 -2 3 1 0\n",
      "-4 2 -3 1 0\n",
      "-4 2 3 -1 0\n",
      "4 -2 -3 1 0\n",
      "4 -2 3 -1 0\n",
      "4 2 -3 -1 0\n",
      "4 2 3 1 0\n",
      "\n"
     ]
    }
   ],
   "source": [
    "sage: B.<t1,t2,t3,z> = BooleanPolynomialRing()\n",
    "sage: from sage.sat.converters.polybori import CNFEncoder\n",
    "sage: from sage.sat.solvers.dimacs import DIMACS\n",
    "sage: fn = tmp_filename()\n",
    "sage: solver = DIMACS(filename=fn)\n",
    "sage: e = CNFEncoder(solver, B)\n",
    "sage: e.clauses_sparse(t1+t2+t3+z+1)\n",
    "sage: _ = solver.write()\n",
    "sage: print(open(fn).read())"
   ]
  },
  {
   "cell_type": "code",
   "execution_count": null,
   "metadata": {},
   "outputs": [],
   "source": []
  }
 ],
 "metadata": {
  "kernelspec": {
   "display_name": "SageMath 9.1",
   "language": "sage",
   "name": "sagemath"
  },
  "language_info": {
   "codemirror_mode": {
    "name": "ipython",
    "version": 2
   },
   "file_extension": ".py",
   "mimetype": "text/x-python",
   "name": "python",
   "nbconvert_exporter": "python",
   "pygments_lexer": "ipython2",
   "version": "2.7.15"
  }
 },
 "nbformat": 4,
 "nbformat_minor": 2
}
